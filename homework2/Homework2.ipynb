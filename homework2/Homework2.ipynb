{
 "cells": [
  {
   "cell_type": "markdown",
   "metadata": {
    "colab_type": "text",
    "id": "c9QcGnGPdX2C"
   },
   "source": [
    "\n",
    "**Install requirements**"
   ]
  },
  {
   "cell_type": "code",
   "execution_count": 0,
   "metadata": {
    "colab": {
     "base_uri": "https://localhost:8080/",
     "height": 733
    },
    "colab_type": "code",
    "id": "k9O3aM3Tb28q",
    "outputId": "43a34996-1cc0-4b31-eda1-d1c517dd70b8"
   },
   "outputs": [
    {
     "name": "stdout",
     "output_type": "stream",
     "text": [
      "Collecting torch==1.3.1\n",
      "\u001b[?25l  Downloading https://files.pythonhosted.org/packages/88/95/90e8c4c31cfc67248bf944ba42029295b77159982f532c5689bcfe4e9108/torch-1.3.1-cp36-cp36m-manylinux1_x86_64.whl (734.6MB)\n",
      "\u001b[K     |████████████████████████████████| 734.6MB 24kB/s \n",
      "\u001b[?25hRequirement already satisfied: numpy in /usr/local/lib/python3.6/dist-packages (from torch==1.3.1) (1.18.2)\n",
      "\u001b[31mERROR: torchvision 0.5.0 has requirement torch==1.4.0, but you'll have torch 1.3.1 which is incompatible.\u001b[0m\n",
      "Installing collected packages: torch\n",
      "  Found existing installation: torch 1.4.0\n",
      "    Uninstalling torch-1.4.0:\n",
      "      Successfully uninstalled torch-1.4.0\n",
      "Successfully installed torch-1.3.1\n",
      "Requirement already satisfied: torchvision==0.5.0 in /usr/local/lib/python3.6/dist-packages (0.5.0)\n",
      "Collecting torch==1.4.0\n",
      "\u001b[?25l  Downloading https://files.pythonhosted.org/packages/24/19/4804aea17cd136f1705a5e98a00618cb8f6ccc375ad8bfa437408e09d058/torch-1.4.0-cp36-cp36m-manylinux1_x86_64.whl (753.4MB)\n",
      "\u001b[K     |████████████████████████████████| 753.4MB 20kB/s \n",
      "\u001b[?25hRequirement already satisfied: six in /usr/local/lib/python3.6/dist-packages (from torchvision==0.5.0) (1.12.0)\n",
      "Requirement already satisfied: numpy in /usr/local/lib/python3.6/dist-packages (from torchvision==0.5.0) (1.18.2)\n",
      "Requirement already satisfied: pillow>=4.1.1 in /usr/local/lib/python3.6/dist-packages (from torchvision==0.5.0) (7.0.0)\n",
      "Installing collected packages: torch\n",
      "  Found existing installation: torch 1.3.1\n",
      "    Uninstalling torch-1.3.1:\n",
      "      Successfully uninstalled torch-1.3.1\n",
      "Successfully installed torch-1.4.0\n",
      "Collecting Pillow-SIMD\n",
      "\u001b[?25l  Downloading https://files.pythonhosted.org/packages/a0/6a/30d21c886293cca3755b8e55de34137a5068b77eba1c0644d3632080516b/Pillow-SIMD-7.0.0.post3.tar.gz (630kB)\n",
      "\u001b[K     |████████████████████████████████| 634kB 6.4MB/s \n",
      "\u001b[?25hBuilding wheels for collected packages: Pillow-SIMD\n",
      "  Building wheel for Pillow-SIMD (setup.py) ... \u001b[?25l\u001b[?25hdone\n",
      "  Created wheel for Pillow-SIMD: filename=Pillow_SIMD-7.0.0.post3-cp36-cp36m-linux_x86_64.whl size=1110246 sha256=83594108c424ce18ca2729219071ef088fc22f36e9c5977c7a7d9657d151305f\n",
      "  Stored in directory: /root/.cache/pip/wheels/d3/ac/4f/4cdf8febba528e5f1b09fc58d5181e1c12ed1e8655dcd583b8\n",
      "Successfully built Pillow-SIMD\n",
      "Installing collected packages: Pillow-SIMD\n",
      "Successfully installed Pillow-SIMD-7.0.0.post3\n"
     ]
    },
    {
     "data": {
      "application/vnd.colab-display-data+json": {
       "pip_warning": {
        "packages": [
         "PIL"
        ]
       }
      }
     },
     "metadata": {
      "tags": []
     },
     "output_type": "display_data"
    },
    {
     "name": "stdout",
     "output_type": "stream",
     "text": [
      "Requirement already satisfied: tqdm in /usr/local/lib/python3.6/dist-packages (4.38.0)\n"
     ]
    }
   ],
   "source": [
    "!pip3 install 'torch==1.3.1'\n",
    "!pip3 install 'torchvision==0.5.0'\n",
    "!pip3 install 'Pillow-SIMD'\n",
    "!pip3 install 'tqdm'"
   ]
  },
  {
   "cell_type": "markdown",
   "metadata": {
    "colab_type": "text",
    "id": "fo942LMOdlh4"
   },
   "source": [
    "**Import libraries**"
   ]
  },
  {
   "cell_type": "code",
   "execution_count": 1,
   "metadata": {
    "colab": {},
    "colab_type": "code",
    "collapsed": true,
    "id": "DokFOdD1dJEl"
   },
   "outputs": [
    {
     "ename": "ModuleNotFoundError",
     "evalue": "No module named 'torch'",
     "output_type": "error",
     "traceback": [
      "\u001b[1;31m---------------------------------------------------------------------------\u001b[0m",
      "\u001b[1;31mModuleNotFoundError\u001b[0m                       Traceback (most recent call last)",
      "\u001b[1;32m<ipython-input-1-5e97a0ff40c2>\u001b[0m in \u001b[0;36m<module>\u001b[1;34m\u001b[0m\n\u001b[0;32m      2\u001b[0m \u001b[1;32mimport\u001b[0m \u001b[0mlogging\u001b[0m\u001b[1;33m\u001b[0m\u001b[1;33m\u001b[0m\u001b[0m\n\u001b[0;32m      3\u001b[0m \u001b[1;33m\u001b[0m\u001b[0m\n\u001b[1;32m----> 4\u001b[1;33m \u001b[1;32mimport\u001b[0m \u001b[0mtorch\u001b[0m\u001b[1;33m\u001b[0m\u001b[1;33m\u001b[0m\u001b[0m\n\u001b[0m\u001b[0;32m      5\u001b[0m \u001b[1;32mimport\u001b[0m \u001b[0mtorch\u001b[0m\u001b[1;33m.\u001b[0m\u001b[0mnn\u001b[0m \u001b[1;32mas\u001b[0m \u001b[0mnn\u001b[0m\u001b[1;33m\u001b[0m\u001b[1;33m\u001b[0m\u001b[0m\n\u001b[0;32m      6\u001b[0m \u001b[1;32mimport\u001b[0m \u001b[0mtorch\u001b[0m\u001b[1;33m.\u001b[0m\u001b[0moptim\u001b[0m \u001b[1;32mas\u001b[0m \u001b[0moptim\u001b[0m\u001b[1;33m\u001b[0m\u001b[1;33m\u001b[0m\u001b[0m\n",
      "\u001b[1;31mModuleNotFoundError\u001b[0m: No module named 'torch'"
     ]
    }
   ],
   "source": [
    "import os\n",
    "import logging\n",
    "\n",
    "import torch\n",
    "import torch.nn as nn\n",
    "import torch.optim as optim\n",
    "from torch.utils.data import Subset, DataLoader\n",
    "from torch.backends import cudnn\n",
    "\n",
    "import torchvision\n",
    "from torchvision import transforms\n",
    "from torchvision.models import alexnet\n",
    "from torchvision.models import resnet101\n",
    "from torchvision.models import resnet18\n",
    "from PIL import Image\n",
    "from tqdm import tqdm"
   ]
  },
  {
   "cell_type": "markdown",
   "metadata": {
    "colab_type": "text",
    "id": "OIDLJuIXK_vh"
   },
   "source": [
    "**Set Arguments**"
   ]
  },
  {
   "cell_type": "code",
   "execution_count": 0,
   "metadata": {
    "colab": {},
    "colab_type": "code",
    "id": "d5PkYfqfK_SA"
   },
   "outputs": [],
   "source": [
    "DEVICE = 'cuda' # 'cuda' or 'cpu'\n",
    "\n",
    "NUM_CLASSES = 101 # 101 + 1: There is am extra Background class that should be removed \n",
    "\n",
    "#BATCH_SIZE = 512   # Higher batch sizes allows for larger learning rates. An empirical heuristic suggests that, when changing\n",
    "BATCH_SIZE = 256  # the batch size, learning rate should change by the same factor to have comparable results\n",
    "\n",
    "LR = 0.01           # The initial Learning Rate\n",
    "#LR = 1e-3\n",
    "MOMENTUM = 0.9       # Hyperparameter for SGD, keep this at 0.9 when using SGD\n",
    "WEIGHT_DECAY = 5e-5  # Regularization, you can keep this at the default\n",
    "\n",
    "NUM_EPOCHS = 30      # Total number of training epochs (iterations over dataset)\n",
    "#NUM_EPOCH = 30\n",
    "STEP_SIZE = 20       # How many epochs before decreasing learning rate (if using a step-down policy)\n",
    "#STEP_SIZE = 20\n",
    "GAMMA = 0.1          # Multiplicative factor for learning rate step-down\n",
    "\n",
    "LOG_FREQUENCY = 10\n"
   ]
  },
  {
   "cell_type": "markdown",
   "metadata": {
    "colab_type": "text",
    "id": "9gwii0TBHvzh"
   },
   "source": [
    "**Define Data Preprocessing**"
   ]
  },
  {
   "cell_type": "code",
   "execution_count": 0,
   "metadata": {
    "colab": {},
    "colab_type": "code",
    "id": "QUDdw4j2H0Mc"
   },
   "outputs": [],
   "source": [
    "# Define transforms for training phase\n",
    "train_transform = transforms.Compose([transforms.Resize(256),      # Resizes short size of the PIL image to 256\n",
    "                                      transforms.CenterCrop(224),  # Crops a central square patch of the image\n",
    "                                                                   # 224 because torchvision's AlexNet needs a 224x224 input!\n",
    "                                                                   # Remember this when applying different transformations, otherwise you get an error\n",
    "                                      transforms.ToTensor(), # Turn PIL Image to torch.Tensor\n",
    "                                      transforms.Normalize((0.5, 0.5, 0.5), (0.5, 0.5, 0.5)) # Normalizes tensor with mean and standard deviation\n",
    "])\n",
    "# Define transforms for the evaluation phase\n",
    "eval_transform = transforms.Compose([transforms.Resize(256),\n",
    "                                      transforms.CenterCrop(224),\n",
    "                                      transforms.ToTensor(),\n",
    "                                      transforms.Normalize((0.5, 0.5, 0.5), (0.5, 0.5, 0.5))                                    \n",
    "])\n",
    "#part 3\n",
    "# transforms for pretrained net\n",
    "imageNet_transform = transforms.Compose([transforms.Resize(256),\n",
    "                                      transforms.CenterCrop(224),\n",
    "                                      transforms.ToTensor(),\n",
    "                                      transforms.Normalize((0.485, 0.456, 0.406), (0.229, 0.224, 0.225))\n",
    "])\n",
    "#part 4\n",
    "#transforms for data augmentation\n",
    "imageNet_transform_train = transforms.Compose([transforms.Resize(256),\n",
    "                                      #transforms.RandomHorizontalFlip(),\n",
    "                                      #transforms.RandomGrayscale(0.5),\n",
    "                                      #transforms.RandomRotation(30),\n",
    "                                      #transforms.ColorJitter(),\n",
    "                                      transforms.CenterCrop(224),\n",
    "                                      transforms.ToTensor(),\n",
    "                                      #transforms.RandomErasing(),\n",
    "                                      transforms.Normalize((0.485, 0.456, 0.406), (0.229, 0.224, 0.225))\n",
    "])"
   ]
  },
  {
   "cell_type": "markdown",
   "metadata": {
    "colab_type": "text",
    "id": "E4Sf8xYp_rsJ"
   },
   "source": [
    "**Caltech Class**"
   ]
  },
  {
   "cell_type": "code",
   "execution_count": 0,
   "metadata": {
    "colab": {},
    "colab_type": "code",
    "id": "jY8Uv1jx0H6N"
   },
   "outputs": [],
   "source": [
    "from torchvision.datasets import VisionDataset\n",
    "\n",
    "from PIL import Image\n",
    "\n",
    "import os\n",
    "import os.path\n",
    "import sys\n",
    "\n",
    "\n",
    "def pil_loader(path):\n",
    "    # open path as file to avoid ResourceWarning (https://github.com/python-pillow/Pillow/issues/835)\n",
    "    with open(path, 'rb') as f:\n",
    "        img = Image.open(f)\n",
    "        return img.convert('RGB')\n",
    "\n",
    "\n",
    "class Caltech(VisionDataset):\n",
    "    def __init__(self, root, split='train', transform=None, target_transform=None):\n",
    "        super(Caltech, self).__init__(root, transform=transform, target_transform=target_transform)\n",
    "\n",
    "        self.split = split # This defines the split you are going to use\n",
    "                           # (split files are called 'train.txt' and 'test.txt')\n",
    "\n",
    "        '''\n",
    "        - Here you should implement the logic for reading the splits files and accessing elements\n",
    "        - If the RAM size allows it, it is faster to store all data in memory\n",
    "        - PyTorch Dataset classes use indexes to read elements\n",
    "        - You should provide a way for the __getitem__ method to access the image-label pair\n",
    "          through the index\n",
    "        - Labels should start from 0, so for Caltech you will have lables 0...100 (excluding the background class) \n",
    "        '''\n",
    "        file = open(self.split, \"r\")\n",
    "        lines = file.readlines() #load the text file\n",
    "        file.close()\n",
    "        self.elements = [i for i in lines if not i.startswith(\"BACKGROUND_Google\")] #filter background class \n",
    "        self.classes = os.listdir(self.root) #in the root there are the names of the classes\n",
    "        self.classes.remove(\"BACKGROUND_Google\") #filter background class\n",
    "\n",
    "    def __getitem__(self, index):\n",
    "        '''\n",
    "        __getitem__ should access an element through its index\n",
    "        Args:\n",
    "            index (int): Index\n",
    "        Returns:\n",
    "            tuple: (sample, target) where target is class_index of the target class.\n",
    "        '''\n",
    "        image_name = self.elements[index].rstrip()\n",
    "        image = pil_loader(os.path.join(self.root, image_name)) #find the image in the right folder\n",
    "        classname = self.elements[index].rstrip().split('/')[0]\n",
    "        label = self.classes.index(classname) #take the index of the class of the image\n",
    "         # Provide a way to access image and label via index\n",
    "                                   # Image should be a PIL Image\n",
    "                                   # label can be int\n",
    "\n",
    "        # Applies preprocessing when accessing the image\n",
    "        if self.transform is not None:\n",
    "             image = self.transform(image)\n",
    "\n",
    "        return image, label\n",
    "\n",
    "    def __len__(self):\n",
    "        '''\n",
    "        The __len__ method returns the length of the dataset\n",
    "        It is mandatory, as this is used by several other components\n",
    "        '''\n",
    "        length = len(self.elements) # Provide a way to get the length (number of elements) of the dataset\n",
    "        return length\n",
    "\n",
    "    def getclasses(self):\n",
    "        return self.classes"
   ]
  },
  {
   "cell_type": "markdown",
   "metadata": {
    "colab_type": "text",
    "id": "2qYIHPzYLY7i"
   },
   "source": [
    "**Prepare Dataset**"
   ]
  },
  {
   "cell_type": "code",
   "execution_count": 5,
   "metadata": {
    "colab": {
     "base_uri": "https://localhost:8080/",
     "height": 73
    },
    "colab_type": "code",
    "id": "QfVq_uDHLbsR",
    "outputId": "b72ebde3-3add-4701-a930-a3416a800ec4"
   },
   "outputs": [
    {
     "name": "stdout",
     "output_type": "stream",
     "text": [
      "Train Dataset: 2892\n",
      "Valid Dataset: 2892\n",
      "Test Dataset: 2893\n"
     ]
    }
   ],
   "source": [
    "# Clone github repository with data\n",
    "if not os.path.isdir('./Homework2-Caltech101'):\n",
    "  !git clone https://github.com/MachineLearning2020/Homework2-Caltech101.git\n",
    "  #!mv 'Homework2-Caltech101' 'Caltech101'\n",
    "\n",
    "DATA_DIR = 'Homework2-Caltech101/101_ObjectCategories'\n",
    "TRAIN_DIR = 'Homework2-Caltech101/train.txt'\n",
    "TEST_DIR = 'Homework2-Caltech101/test.txt'\n",
    "#from Caltech101.caltech_dataset import Caltech\n",
    "\n",
    "# Prepare Pytorch train/test Datasets\n",
    "train_val_dataset = Caltech(DATA_DIR, split=TRAIN_DIR, transform=train_transform)\n",
    "test_dataset = Caltech(DATA_DIR, split=TEST_DIR, transform=eval_transform)\n",
    "\n",
    "train_indexes = [idx for idx in range(len(train_val_dataset)) if idx % 2]\n",
    "val_indexes = [idx for idx in range(len(train_val_dataset)) if not idx % 2]\n",
    "\n",
    "train_dataset = Subset(train_val_dataset, train_indexes)\n",
    "val_dataset = Subset(train_val_dataset, val_indexes)\n",
    "\n",
    "# Check dataset sizes\n",
    "print('Train Dataset: {}'.format(len(train_dataset)))\n",
    "print('Valid Dataset: {}'.format(len(val_dataset)))\n",
    "print('Test Dataset: {}'.format(len(test_dataset)))\n",
    "\n",
    "#part 3 and 4\n",
    "img_train_val_dataset = Caltech(DATA_DIR, split=TRAIN_DIR, transform=imageNet_transform)\n",
    "#img_train_val_dataset = Caltech(DATA_DIR, split=TRAIN_DIR, transform=imageNet_transform_train) #for data augmentation\n",
    "img_test = Caltech(DATA_DIR, split=TEST_DIR, transform=imageNet_transform)\n",
    "img_train = Subset(img_train_val_dataset, train_indexes)\n",
    "img_val = Subset(img_train_val_dataset, val_indexes)"
   ]
  },
  {
   "cell_type": "markdown",
   "metadata": {
    "colab_type": "text",
    "id": "FYEDQ7Z21ldN"
   },
   "source": [
    "**Prepare Dataloaders**"
   ]
  },
  {
   "cell_type": "code",
   "execution_count": 0,
   "metadata": {
    "colab": {},
    "colab_type": "code",
    "id": "VriRw8SI1nle"
   },
   "outputs": [],
   "source": [
    "# Dataloaders iterate over pytorch datasets and transparently provide useful functions (e.g. parallelization and shuffling)\n",
    "train_dataloader = DataLoader(train_dataset, batch_size=BATCH_SIZE, shuffle=True, num_workers=4, drop_last=True)\n",
    "val_dataloader = DataLoader(val_dataset, batch_size=BATCH_SIZE, shuffle=False, num_workers=4) \n",
    "test_dataloader = DataLoader(test_dataset, batch_size=BATCH_SIZE, shuffle=False, num_workers=4)\n",
    "\n",
    "#part 3\n",
    "img_train_dataloader = DataLoader(img_train, batch_size=BATCH_SIZE, shuffle=True, num_workers=4, drop_last=True)\n",
    "img_val_dataloader = DataLoader(img_val, batch_size=BATCH_SIZE, shuffle=False, num_workers=4)\n",
    "img_test_dataloader = DataLoader(img_test, batch_size=BATCH_SIZE, shuffle=False, num_workers=4)"
   ]
  },
  {
   "cell_type": "markdown",
   "metadata": {
    "colab_type": "text",
    "id": "gbZ1t5Qs2z4j"
   },
   "source": [
    "**Prepare Network**"
   ]
  },
  {
   "cell_type": "code",
   "execution_count": 0,
   "metadata": {
    "colab": {},
    "colab_type": "code",
    "id": "exHUjtXa22DN"
   },
   "outputs": [],
   "source": [
    "net = alexnet() # Loading AlexNet model\n",
    "best_model = alexnet() \n",
    "net_trained = alexnet(pretrained=True)\n",
    "# AlexNet has 1000 output neurons, corresponding to the 1000 ImageNet's classes\n",
    "# We need 101 outputs for Caltech-101\n",
    "net.classifier[6] = nn.Linear(4096, NUM_CLASSES) # nn.Linear in pytorch is a fully connected layer\n",
    "                                                 # The convolutional layer is nn.Conv2d\n",
    "best_model.classifier[6] = nn.Linear(4096, NUM_CLASSES)\n",
    "net_trained.classifier[6] = nn.Linear(4096, NUM_CLASSES)\n",
    "# We just changed the last layer of AlexNet with a new fully connected layer with 101 outputs\n",
    "# It is strongly suggested to study torchvision.models.alexnet source code"
   ]
  },
  {
   "cell_type": "markdown",
   "metadata": {
    "colab_type": "text",
    "id": "KEyL3H_R4qCf"
   },
   "source": [
    "**Prepare Training**"
   ]
  },
  {
   "cell_type": "code",
   "execution_count": 0,
   "metadata": {
    "colab": {},
    "colab_type": "code",
    "id": "9sjq00G94tSc"
   },
   "outputs": [],
   "source": [
    "# Define loss function\n",
    "criterion = nn.CrossEntropyLoss() # for classification, we use Cross Entropy\n",
    "\n",
    "# Choose parameters to optimize\n",
    "# To access a different set of parameters, you have to access submodules of AlexNet\n",
    "# (nn.Module objects, like AlexNet, implement the Composite Pattern)\n",
    "# e.g.: parameters of the fully connected layers: net.classifier.parameters()\n",
    "# e.g.: parameters of the convolutional layers: look at alexnet's source code ;) \n",
    "\n",
    "parameters_to_optimize = net.parameters() # In this case we optimize over all the parameters of AlexNet\n",
    "pretrained_parameters_to_optimize = net_trained.parameters()\n",
    "#UNCOMMENT to freeze layers\n",
    "#pretrained_parameters_to_optimize = net_trained.features.parameters()\n",
    "#pretrained_parameters_to_optimize = net_trained.classifier.parameters()\n",
    "\n",
    "# Define optimizer\n",
    "# An optimizer updates the weights based on loss\n",
    "# We use SGD with momentum\n",
    "optimizer = optim.SGD(parameters_to_optimize, lr=LR, momentum=MOMENTUM, weight_decay=WEIGHT_DECAY)\n",
    "pretrained_optimizer = optim.SGD(pretrained_parameters_to_optimize, lr=LR, momentum=MOMENTUM, weight_decay=WEIGHT_DECAY)\n",
    "\n",
    "# Define scheduler\n",
    "# A scheduler dynamically changes learning rate\n",
    "# The most common schedule is the step(-down), which multiplies learning rate by gamma every STEP_SIZE epochs\n",
    "scheduler = optim.lr_scheduler.StepLR(optimizer, step_size=STEP_SIZE, gamma=GAMMA)\n",
    "pretrained_scheduler = optim.lr_scheduler.StepLR(pretrained_optimizer, step_size=STEP_SIZE, gamma=GAMMA)"
   ]
  },
  {
   "cell_type": "markdown",
   "metadata": {
    "colab_type": "text",
    "id": "AxYUli9d9uYQ"
   },
   "source": [
    "**Training from scratch**"
   ]
  },
  {
   "cell_type": "code",
   "execution_count": 0,
   "metadata": {
    "colab": {},
    "colab_type": "code",
    "id": "ZcoQ5fD49yT_"
   },
   "outputs": [],
   "source": [
    "import copy\n",
    "# By default, everything is loaded to cpu\n",
    "net = net.to(DEVICE) # this will bring the network to GPU if DEVICE is cuda\n",
    "\n",
    "cudnn.benchmark # Calling this optimizes runtime\n",
    "\n",
    "current_step = 0\n",
    "best_acc = 0\n",
    "\n",
    "training_loss = []\n",
    "validation_loss = []\n",
    "validation_accuracy = []\n",
    "\n",
    "# Start iterating over the epochs\n",
    "for epoch in range(NUM_EPOCHS):\n",
    "  print('Starting epoch {}/{}, LR = {}'.format(epoch+1, NUM_EPOCHS, scheduler.get_lr()))\n",
    "  loss_avg = 0\n",
    "  # Iterate over the dataset\n",
    "  for i,(images, labels) in enumerate(train_dataloader):\n",
    "    # Bring data over the device of choice\n",
    "    images = images.to(DEVICE)\n",
    "    labels = labels.to(DEVICE)\n",
    "\n",
    "    net.train() # Sets module in training mode\n",
    "\n",
    "    # PyTorch, by default, accumulates gradients after each backward pass\n",
    "    # We need to manually set the gradients to zero before starting a new iteration\n",
    "    optimizer.zero_grad() # Zero-ing the gradients\n",
    "\n",
    "    # Forward pass to the network\n",
    "    outputs = net(images)\n",
    "\n",
    "    # Compute loss based on output and ground truth\n",
    "    loss = criterion(outputs, labels)\n",
    "    loss_avg += loss.item()\n",
    "    # Log loss\n",
    "    if current_step % LOG_FREQUENCY == 0:\n",
    "      print('Step {}, Loss {}'.format(current_step, loss.item()))\n",
    "\n",
    "    # Compute gradients for each layer and update weights\n",
    "    loss.backward()  # backward pass: computes gradients\n",
    "    optimizer.step() # update weights based on accumulated gradients\n",
    "\n",
    "    current_step += 1\n",
    "\n",
    "  #evaluate model at each epoch and take the best one\n",
    "\n",
    "  net = net.to(DEVICE) # this will bring the network to GPU if DEVICE is cuda\n",
    "  net.train(False) # Set Network to evaluation mode\n",
    "\n",
    "  running_corrects = 0\n",
    "    val_loss_avg = 0\n",
    "  for j,(images, labels) in enumerate(val_dataloader):\n",
    "    images = images.to(DEVICE)\n",
    "    labels = labels.to(DEVICE)\n",
    "\n",
    "      # Forward Pass\n",
    "    outputs = net(images)\n",
    "\n",
    "      # Get predictions\n",
    "    _, preds = torch.max(outputs.data, 1)\n",
    "\n",
    "      # Update Corrects\n",
    "    running_corrects += torch.sum(preds == labels.data).data.item()\n",
    "    val_loss = criterion(outputs,labels)\n",
    "    val_loss_avg += val_loss.item()\n",
    "    # Calculate Accuracy\n",
    "  accuracy = running_corrects / float(len(val_dataset))\n",
    "  validation_accuracy.append(accuracy)\n",
    "  validation_loss.append(val_loss_avg/float(j))\n",
    "  print('\\nValidation Accuracy: {}'.format(accuracy))\n",
    "  if accuracy > best_acc:\n",
    "    best_acc = accuracy\n",
    "    best_model = copy.deepcopy(net)\n",
    "\n",
    "  # Step the scheduler\n",
    "  scheduler.step() \n",
    "  training_loss.append(loss_avg/float(i))"
   ]
  },
  {
   "cell_type": "code",
   "execution_count": null,
   "metadata": {},
   "outputs": [],
   "source": [
    "from matplotlib import pyplot as plt\n",
    "\n",
    "fig,ax = plt.subplots(2)\n",
    "ax[0].plot(validation_accuracy, label = 'Validation Accuracy')\n",
    "ax[1].plot(training_loss,label='Training Loss')\n",
    "ax[1].plot(validation_loss,label = 'Validation Loss')\n",
    "ax[0].grid()\n",
    "ax[1].grid()\n",
    "ax[0].legend()\n",
    "ax[1].legend()"
   ]
  },
  {
   "cell_type": "code",
   "execution_count": 0,
   "metadata": {
    "colab": {},
    "colab_type": "code",
    "id": "fSHcUqLB5yWO"
   },
   "outputs": [],
   "source": [
    "#test phase\n",
    "net = net.to(DEVICE) # this will bring the network to GPU if DEVICE is cuda\n",
    "net.train(False) # Set Network to evaluation mode\n",
    "\n",
    "running_corrects = 0\n",
    "for images, labels in tqdm(test_dataloader):\n",
    "  images = images.to(DEVICE)\n",
    "  labels = labels.to(DEVICE)\n",
    "\n",
    "  # Forward Pass\n",
    "  outputs = net(images)\n",
    "\n",
    "  # Get predictions\n",
    "  _, preds = torch.max(outputs.data, 1)\n",
    "\n",
    "  # Update Corrects\n",
    "  running_corrects += torch.sum(preds == labels.data).data.item()\n",
    "\n",
    "# Calculate Accuracy\n",
    "accuracy = running_corrects / float(len(test_dataset))\n",
    "\n",
    "print('Test Accuracy: {}'.format(accuracy))"
   ]
  },
  {
   "cell_type": "markdown",
   "metadata": {
    "colab_type": "text",
    "id": "6IOYuvqWUULr"
   },
   "source": [
    "**Transfer Learning**"
   ]
  },
  {
   "cell_type": "code",
   "execution_count": 0,
   "metadata": {
    "colab": {},
    "colab_type": "code",
    "id": "9tJuOjlPKStj"
   },
   "outputs": [],
   "source": [
    "import copy\n",
    "# By default, everything is loaded to cpu\n",
    "net = net_trained.to(DEVICE) # this will bring the network to GPU if DEVICE is cuda\n",
    "\n",
    "cudnn.benchmark # Calling this optimizes runtime\n",
    "\n",
    "current_step = 0\n",
    "best_acc = 0\n",
    "\n",
    "training_loss = []\n",
    "validation_loss = []\n",
    "validation_accuracy = []\n",
    "\n",
    "# Start iterating over the epochs\n",
    "for epoch in range(NUM_EPOCHS):\n",
    "  print('Starting epoch {}/{}, LR = {}'.format(epoch+1, NUM_EPOCHS, pretrained_scheduler.get_lr()))\n",
    "  loss_avg = 0\n",
    "  # Iterate over the dataset\n",
    "  for i,(images, labels) in enumerate(img_train_dataloader):\n",
    "    # Bring data over the device of choice\n",
    "    images = images.to(DEVICE)\n",
    "    labels = labels.to(DEVICE)\n",
    "\n",
    "    net.train() # Sets module in training mode\n",
    "\n",
    "    # PyTorch, by default, accumulates gradients after each backward pass\n",
    "    # We need to manually set the gradients to zero before starting a new iteration\n",
    "    pretrained_optimizer.zero_grad() # Zero-ing the gradients\n",
    "\n",
    "    # Forward pass to the network\n",
    "    outputs = net(images)\n",
    "\n",
    "    # Compute loss based on output and ground truth\n",
    "    loss = criterion(outputs, labels)\n",
    "    loss_avg += loss.item()\n",
    "    # Log loss\n",
    "    if current_step % LOG_FREQUENCY == 0:\n",
    "      print('Step {}, Loss {}'.format(current_step, loss.item()))\n",
    "\n",
    "    # Compute gradients for each layer and update weights\n",
    "    loss.backward()  # backward pass: computes gradients\n",
    "    pretrained_optimizer.step() # update weights based on accumulated gradients\n",
    "\n",
    "    current_step += 1\n",
    "\n",
    "  #evaluate model at each epoch and take the best one\n",
    "\n",
    "  net = net.to(DEVICE) # this will bring the network to GPU if DEVICE is cuda\n",
    "  net.train(False) # Set Network to evaluation mode\n",
    "\n",
    "  running_corrects = 0\n",
    "  val_loss_avg = 0\n",
    "  for j,(images, labels) in enumerate(img_val_dataloader):\n",
    "    images = images.to(DEVICE)\n",
    "    labels = labels.to(DEVICE)\n",
    "\n",
    "      # Forward Pass\n",
    "    outputs = net(images)\n",
    "\n",
    "      # Get predictions\n",
    "    _, preds = torch.max(outputs.data, 1)\n",
    "\n",
    "      # Update Corrects\n",
    "    running_corrects += torch.sum(preds == labels.data).data.item()\n",
    "    val_loss = criterion(outputs,labels)\n",
    "    val_loss_avg += val_loss.item()\n",
    "    # Calculate Accuracy\n",
    "  accuracy = running_corrects / float(len(img_val))\n",
    "  validation_accuracy.append(accuracy)\n",
    "  validation_loss.append(val_loss_avg/float(j))\n",
    "  print('\\nValidation Accuracy: {}'.format(accuracy))\n",
    "  if accuracy > best_acc:\n",
    "    best_acc = accuracy\n",
    "    best_model = copy.deepcopy(net)\n",
    "\n",
    "  # Step the scheduler\n",
    "  pretrained_scheduler.step()\n",
    "  training_loss.append(loss_avg/float(i))"
   ]
  },
  {
   "cell_type": "code",
   "execution_count": null,
   "metadata": {},
   "outputs": [],
   "source": [
    "from matplotlib import pyplot as plt\n",
    "\n",
    "fig,ax = plt.subplots(2)\n",
    "ax[0].plot(validation_accuracy, label = 'Validation Accuracy')\n",
    "ax[1].plot(training_loss,label='Training Loss')\n",
    "ax[1].plot(validation_loss,label = 'Validation Loss')\n",
    "ax[0].grid()\n",
    "ax[1].grid()\n",
    "ax[0].legend()\n",
    "ax[1].legend()"
   ]
  },
  {
   "cell_type": "code",
   "execution_count": 0,
   "metadata": {
    "colab": {
     "base_uri": "https://localhost:8080/",
     "height": 54
    },
    "colab_type": "code",
    "id": "HLj7AutIM5Xj",
    "outputId": "76ed5405-cc42-4d02-f01b-9618b4dac93a"
   },
   "outputs": [
    {
     "name": "stderr",
     "output_type": "stream",
     "text": [
      "100%|██████████| 6/6 [00:13<00:00,  2.23s/it]"
     ]
    },
    {
     "name": "stdout",
     "output_type": "stream",
     "text": [
      "Test Accuracy: 0.844106463878327\n"
     ]
    },
    {
     "name": "stderr",
     "output_type": "stream",
     "text": [
      "\n"
     ]
    }
   ],
   "source": [
    "#test phase\n",
    "net = best_model.to(DEVICE) # this will bring the network to GPU if DEVICE is cuda\n",
    "net.train(False) # Set Network to evaluation mode\n",
    "\n",
    "running_corrects = 0\n",
    "for images, labels in tqdm(img_test_dataloader):\n",
    "  images = images.to(DEVICE)\n",
    "  labels = labels.to(DEVICE)\n",
    "\n",
    "  # Forward Pass\n",
    "  outputs = net(images)\n",
    "\n",
    "  # Get predictions\n",
    "  _, preds = torch.max(outputs.data, 1)\n",
    "\n",
    "  # Update Corrects\n",
    "  running_corrects += torch.sum(preds == labels.data).data.item()\n",
    "\n",
    "# Calculate Accuracy\n",
    "accuracy = running_corrects / float(len(img_test))\n",
    "\n",
    "print('Test Accuracy: {}'.format(accuracy))"
   ]
  },
  {
   "cell_type": "markdown",
   "metadata": {
    "colab_type": "text",
    "id": "AzE_A8EeULuC"
   },
   "source": [
    "**Extra Point**"
   ]
  },
  {
   "cell_type": "code",
   "execution_count": 0,
   "metadata": {
    "colab": {},
    "colab_type": "code",
    "id": "h2e-rgnWTaOl"
   },
   "outputs": [],
   "source": [
    "#Extra point with resnet18\n",
    "net = resnet18(pretrained=True)\n",
    "net.fc = nn.Linear(512,NUM_CLASSES)\n",
    "parameters_to_optimize = net.parameters()\n",
    "optimizer = optim.SGD(parameters_to_optimize, lr=LR, momentum=MOMENTUM, weight_decay=WEIGHT_DECAY)\n",
    "scheduler = optim.lr_scheduler.StepLR(optimizer, step_size=STEP_SIZE, gamma=GAMMA)"
   ]
  },
  {
   "cell_type": "code",
   "execution_count": 0,
   "metadata": {
    "colab": {},
    "colab_type": "code",
    "id": "Y0MB-7DsagxE"
   },
   "outputs": [],
   "source": [
    "import copy\n",
    "# By default, everything is loaded to cpu\n",
    "net = net.to(DEVICE) # this will bring the network to GPU if DEVICE is cuda\n",
    "\n",
    "cudnn.benchmark # Calling this optimizes runtime\n",
    "\n",
    "current_step = 0\n",
    "best_acc = 0\n",
    "best_loss = 1000\n",
    "# Start iterating over the epochs\n",
    "for epoch in range(NUM_EPOCHS):\n",
    "  print('Starting epoch {}/{}, LR = {}'.format(epoch+1, NUM_EPOCHS, scheduler.get_lr()))\n",
    "\n",
    "  # Iterate over the dataset\n",
    "  for images, labels in img_train_dataloader:\n",
    "    # Bring data over the device of choice\n",
    "    images = images.to(DEVICE)\n",
    "    labels = labels.to(DEVICE)\n",
    "\n",
    "    net.train() # Sets module in training mode\n",
    "\n",
    "    # PyTorch, by default, accumulates gradients after each backward pass\n",
    "    # We need to manually set the gradients to zero before starting a new iteration\n",
    "    optimizer.zero_grad() # Zero-ing the gradients\n",
    "\n",
    "    # Forward pass to the network\n",
    "    outputs = net(images)\n",
    "\n",
    "    # Compute loss based on output and ground truth\n",
    "    loss = criterion(outputs, labels)\n",
    "\n",
    "    # Log loss\n",
    "    if current_step % LOG_FREQUENCY == 0:\n",
    "      print('Step {}, Loss {}'.format(current_step, loss.item()))\n",
    "\n",
    "    # Compute gradients for each layer and update weights\n",
    "    loss.backward()  # backward pass: computes gradients\n",
    "    optimizer.step() # update weights based on accumulated gradients\n",
    "\n",
    "    current_step += 1\n",
    "\n",
    "  net = net.to(DEVICE) # this will bring the network to GPU if DEVICE is cuda\n",
    "  net.train(False) # Set Network to evaluation mode\n",
    "\n",
    "  running_corrects = 0\n",
    "  for images, labels in tqdm(img_val_dataloader):\n",
    "    images = images.to(DEVICE)\n",
    "    labels = labels.to(DEVICE)\n",
    "\n",
    "      # Forward Pass\n",
    "    outputs = net(images)\n",
    "\n",
    "      # Get predictions\n",
    "    _, preds = torch.max(outputs.data, 1)\n",
    "\n",
    "      # Update Corrects\n",
    "    running_corrects += torch.sum(preds == labels.data).data.item()\n",
    "\n",
    "    # Calculate Accuracy\n",
    "  accuracy = running_corrects / float(len(img_val))\n",
    "  print('\\nValidation Accuracy: {}'.format(accuracy))\n",
    "  if accuracy > best_acc:\n",
    "      best_acc = accuracy\n",
    "      best_model = copy.deepcopy(net)\n",
    "\n",
    "  # Step the scheduler\n",
    "  scheduler.step() "
   ]
  },
  {
   "cell_type": "code",
   "execution_count": 0,
   "metadata": {
    "colab": {},
    "colab_type": "code",
    "id": "9spV3aE-g6th"
   },
   "outputs": [],
   "source": [
    "#test phase\n",
    "net = best_model.to(DEVICE) # this will bring the network to GPU if DEVICE is cuda\n",
    "net.train(False) # Set Network to evaluation mode\n",
    "\n",
    "running_corrects = 0\n",
    "for images, labels in tqdm(img_test_dataloader):\n",
    "  images = images.to(DEVICE)\n",
    "  labels = labels.to(DEVICE)\n",
    "\n",
    "  # Forward Pass\n",
    "  outputs = net(images)\n",
    "\n",
    "  # Get predictions\n",
    "  _, preds = torch.max(outputs.data, 1)\n",
    "\n",
    "  # Update Corrects\n",
    "  running_corrects += torch.sum(preds == labels.data).data.item()\n",
    "\n",
    "# Calculate Accuracy\n",
    "accuracy = running_corrects / float(len(img_test))\n",
    "\n",
    "print('Test Accuracy: {}'.format(accuracy))"
   ]
  }
 ],
 "metadata": {
  "accelerator": "GPU",
  "colab": {
   "collapsed_sections": [],
   "name": "Copy of Homework2-MLDL.ipynb",
   "provenance": []
  },
  "kernelspec": {
   "display_name": "Python 3",
   "language": "python",
   "name": "python3"
  },
  "language_info": {
   "codemirror_mode": {
    "name": "ipython",
    "version": 3
   },
   "file_extension": ".py",
   "mimetype": "text/x-python",
   "name": "python",
   "nbconvert_exporter": "python",
   "pygments_lexer": "ipython3",
   "version": "3.7.4"
  }
 },
 "nbformat": 4,
 "nbformat_minor": 1
}
